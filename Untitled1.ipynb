{
 "cells": [
  {
   "cell_type": "code",
   "execution_count": 1,
   "metadata": {},
   "outputs": [],
   "source": [
    "from pH_analysis import folderToArray, arrayToDF, polyGraph, solveForY"
   ]
  },
  {
   "cell_type": "code",
   "execution_count": 2,
   "metadata": {},
   "outputs": [],
   "source": [
    "golgis = folderToArray(\"C:\\\\Users\\\\Peter\\\\Documents\\\\!Experiments\\\\test_phLIF_Tiff\")"
   ]
  },
  {
   "cell_type": "code",
   "execution_count": null,
   "metadata": {},
   "outputs": [],
   "source": [
    "ph_df, rest_df = arrayToDF(golgis)"
   ]
  },
  {
   "cell_type": "code",
   "execution_count": null,
   "metadata": {},
   "outputs": [],
   "source": [
    "polyGraph(\"test\", ph_df, 5)"
   ]
  },
  {
   "cell_type": "code",
   "execution_count": null,
   "metadata": {},
   "outputs": [],
   "source": [
    "from pH_analysis import polyGraph"
   ]
  },
  {
   "cell_type": "code",
   "execution_count": null,
   "metadata": {},
   "outputs": [],
   "source": [
    "p = polyGraph(\"test\", ph_df, 5)"
   ]
  },
  {
   "cell_type": "code",
   "execution_count": null,
   "metadata": {},
   "outputs": [],
   "source": [
    "solveForY(rest_df['MGAT2'][0], p)"
   ]
  },
  {
   "cell_type": "code",
   "execution_count": null,
   "metadata": {},
   "outputs": [],
   "source": [
    "ph_df['pH'].unique()"
   ]
  },
  {
   "cell_type": "code",
   "execution_count": null,
   "metadata": {},
   "outputs": [],
   "source": [
    "ph_df.sort_values(by=['pH']).reset_index(drop=True)"
   ]
  },
  {
   "cell_type": "code",
   "execution_count": null,
   "metadata": {},
   "outputs": [],
   "source": [
    "import numpy as np\n",
    "import pandas as pd"
   ]
  },
  {
   "cell_type": "code",
   "execution_count": null,
   "metadata": {},
   "outputs": [],
   "source": [
    "def removeOutliers(x):\n",
    "    a = np.array(x)\n",
    "    upper_quartile = np.percentile(a, 75)\n",
    "    lower_quartile = np.percentile(a, 25)\n",
    "    IQR = (upper_quartile - lower_quartile) * 1.5\n",
    "    quartileSet = (lower_quartile - IQR, upper_quartile + IQR)\n",
    "    resultList = []\n",
    "    for y in a.tolist():\n",
    "        if y >= quartileSet[0] and y <= quartileSet[1]:\n",
    "            resultList.append(y)\n",
    "    return(resultList)"
   ]
  },
  {
   "cell_type": "code",
   "execution_count": null,
   "metadata": {},
   "outputs": [],
   "source": [
    "def arrayToDF(arr):\n",
    "    # First calculate ratio for all items\n",
    "    for item in arr:\n",
    "        item.calcRatio(0, 1)\n",
    "\n",
    "    group_set = set()\n",
    "    for item in arr:\n",
    "        group_set.add(item.group)\n",
    "\n",
    "    d = {}\n",
    "    for group in group_set:\n",
    "        temp = []\n",
    "        for item in arr:\n",
    "            if group == item.group:\n",
    "                temp.append(item.ratio)\n",
    "                temp = removeOutliers(temp)\n",
    "                d[group] = temp\n",
    "    df = pd.DataFrame.from_dict(d, orient='index')\n",
    "    df = df.T\n",
    "    df.to_csv('raw_data.csv')\n",
    "    ph_cols = [col for col in df.columns if 'pH' in col]\n",
    "    ph_df = df[ph_cols]\n",
    "\n",
    "    for i, col in enumerate(ph_cols):\n",
    "        temp = col.split('pH')[1]\n",
    "        ph_cols[i] = float(temp)\n",
    "\n",
    "    ph_df.columns = ph_cols\n",
    "    pH_m = ph_df.melt(var_name=\"pH\", value_name=\"Ratio\")\n",
    "\n",
    "    rest_cols = [col for col in df.columns if 'pH' not in col]\n",
    "    rest_df = df[rest_cols]\n",
    "\n",
    "    pH_m = pH_m.dropna()\n",
    "    pH_m = pH_m.sort_values(by=['pH']).reset_index(drop=True)\n",
    "\n",
    "    return(pH_m, rest_df)"
   ]
  },
  {
   "cell_type": "code",
   "execution_count": null,
   "metadata": {},
   "outputs": [],
   "source": [
    "ph_df, rest_df = arrayToDF(golgis)"
   ]
  },
  {
   "cell_type": "code",
   "execution_count": null,
   "metadata": {},
   "outputs": [],
   "source": [
    "p = polyGraph(\"test\", ph_df, 5)"
   ]
  },
  {
   "cell_type": "code",
   "execution_count": null,
   "metadata": {},
   "outputs": [],
   "source": []
  },
  {
   "cell_type": "code",
   "execution_count": null,
   "metadata": {},
   "outputs": [],
   "source": [
    "for item in golgis:\n",
    "    item.saveImage()"
   ]
  },
  {
   "cell_type": "code",
   "execution_count": null,
   "metadata": {},
   "outputs": [],
   "source": [
    "import glob"
   ]
  },
  {
   "cell_type": "code",
   "execution_count": null,
   "metadata": {},
   "outputs": [],
   "source": [
    "folder = \"C:\\\\Users\\\\Peter\\\\Documents\\\\!Experiments\\\\test_phLIF_Tiff\""
   ]
  },
  {
   "cell_type": "code",
   "execution_count": null,
   "metadata": {},
   "outputs": [],
   "source": [
    "bla = glob.glob(folder + \"/**/*.tif\", recursive=True)"
   ]
  },
  {
   "cell_type": "code",
   "execution_count": null,
   "metadata": {},
   "outputs": [],
   "source": [
    "for item in bla[:10]:\n",
    "    print(item)"
   ]
  },
  {
   "cell_type": "code",
   "execution_count": null,
   "metadata": {},
   "outputs": [],
   "source": [
    "def loadObjs(folder):\n",
    "    glob_pattern = folder + \"/**/*.tif\"\n",
    "    tif_list = glob.glob(glob_pattern, recursive=True)\n",
    "    objs = []\n",
    "    for item in tif_list:\n",
    "        img, name = loadImage(item)\n",
    "        objs.append(Golgi(name, img))\n",
    "    return(objs)"
   ]
  },
  {
   "cell_type": "code",
   "execution_count": null,
   "metadata": {},
   "outputs": [],
   "source": [
    "from segmentation import loadImage, makeContours, evaluateGolgi\n",
    "from Golgi_obj import Golgi\n"
   ]
  },
  {
   "cell_type": "code",
   "execution_count": null,
   "metadata": {},
   "outputs": [],
   "source": [
    "test = loadObjs(folder)"
   ]
  },
  {
   "cell_type": "code",
   "execution_count": null,
   "metadata": {},
   "outputs": [],
   "source": [
    "test"
   ]
  },
  {
   "cell_type": "code",
   "execution_count": null,
   "metadata": {},
   "outputs": [],
   "source": [
    "ph_df, rest_df = arrayToDF(test)"
   ]
  },
  {
   "cell_type": "code",
   "execution_count": null,
   "metadata": {},
   "outputs": [],
   "source": []
  }
 ],
 "metadata": {
  "kernelspec": {
   "display_name": "Python 3",
   "language": "python",
   "name": "python3"
  },
  "language_info": {
   "codemirror_mode": {
    "name": "ipython",
    "version": 3
   },
   "file_extension": ".py",
   "mimetype": "text/x-python",
   "name": "python",
   "nbconvert_exporter": "python",
   "pygments_lexer": "ipython3",
   "version": "3.6.4"
  }
 },
 "nbformat": 4,
 "nbformat_minor": 2
}
